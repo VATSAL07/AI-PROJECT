{
  "nbformat": 4,
  "nbformat_minor": 0,
  "metadata": {
    "colab": {
      "name": "ANN_on_digit_recognisation.ipynb",
      "provenance": [],
      "toc_visible": true
    },
    "kernelspec": {
      "name": "python3",
      "display_name": "Python 3"
    }
  },
  "cells": [
    {
      "cell_type": "markdown",
      "metadata": {
        "id": "GwKkmui7isOs"
      },
      "source": [
        "**Digit Recognization** - AI Mini project\n",
        "\n",
        "> By - **VATSAL MISHRA**\n",
        "\n",
        "\n",
        "\n",
        "---\n",
        "\n"
      ]
    },
    {
      "cell_type": "markdown",
      "metadata": {
        "id": "O8c-7yW2uB_W"
      },
      "source": [
        ""
      ]
    },
    {
      "cell_type": "markdown",
      "metadata": {
        "id": "uh1eO_DiDFqx"
      },
      "source": [
        "Importing the important libaries"
      ]
    },
    {
      "cell_type": "code",
      "metadata": {
        "id": "YdxTuyb5Cy-O"
      },
      "source": [
        "import numpy as np\n",
        "import pandas as pd\n",
        "import matplotlib.pyplot as plt\n",
        "import seaborn as sns\n",
        "import tensorflow as tf"
      ],
      "execution_count": 1,
      "outputs": []
    },
    {
      "cell_type": "markdown",
      "metadata": {
        "id": "iMznyxbaib23"
      },
      "source": [
        "Loading the MNIST dataset"
      ]
    },
    {
      "cell_type": "code",
      "metadata": {
        "id": "a1fQdgwYDkz3",
        "colab": {
          "base_uri": "https://localhost:8080/"
        },
        "outputId": "98ecd115-86f4-4e63-a923-cb85e7cd1af8"
      },
      "source": [
        "(X_train,y_train),(X_test,y_test) = tf.keras.datasets.mnist.load_data(path=\"mnist.npz\")"
      ],
      "execution_count": 2,
      "outputs": [
        {
          "output_type": "stream",
          "text": [
            "Downloading data from https://storage.googleapis.com/tensorflow/tf-keras-datasets/mnist.npz\n",
            "11493376/11490434 [==============================] - 0s 0us/step\n"
          ],
          "name": "stdout"
        }
      ]
    },
    {
      "cell_type": "markdown",
      "metadata": {
        "id": "nsFA2tu5iqnT"
      },
      "source": [
        "Previewing an example"
      ]
    },
    {
      "cell_type": "code",
      "metadata": {
        "id": "Ptu_Uku0EJAF",
        "colab": {
          "base_uri": "https://localhost:8080/",
          "height": 282
        },
        "outputId": "42b679e5-0e6c-4afb-f51b-c2cf0e639420"
      },
      "source": [
        "plt.imshow(X_train[0],cmap='gray')"
      ],
      "execution_count": 3,
      "outputs": [
        {
          "output_type": "execute_result",
          "data": {
            "text/plain": [
              "<matplotlib.image.AxesImage at 0x7f929f0562b0>"
            ]
          },
          "metadata": {
            "tags": []
          },
          "execution_count": 3
        },
        {
          "output_type": "display_data",
          "data": {
            "image/png": "[encoded data removed]",
            "text/plain": [
              "<Figure size 432x288 with 1 Axes>"
            ]
          },
          "metadata": {
            "tags": [],
            "needs_background": "light"
          }
        }
      ]
    },
    {
      "cell_type": "markdown",
      "metadata": {
        "id": "vac_cb2djbq8"
      },
      "source": [
        "This digit is"
      ]
    },
    {
      "cell_type": "code",
      "metadata": {
        "id": "ulkDMDfWENJg",
        "colab": {
          "base_uri": "https://localhost:8080/"
        },
        "outputId": "72aecf72-bb62-4310-cc05-a25ee34a02cd"
      },
      "source": [
        "y_train[0]"
      ],
      "execution_count": 4,
      "outputs": [
        {
          "output_type": "execute_result",
          "data": {
            "text/plain": [
              "5"
            ]
          },
          "metadata": {
            "tags": []
          },
          "execution_count": 4
        }
      ]
    },
    {
      "cell_type": "markdown",
      "metadata": {
        "id": "maVmJOM8josT"
      },
      "source": [
        "Checking size of our ndarrays"
      ]
    },
    {
      "cell_type": "code",
      "metadata": {
        "id": "SPPWmK2cEkg6",
        "colab": {
          "base_uri": "https://localhost:8080/"
        },
        "outputId": "b81ffdfc-2d54-48cd-c422-ae5648a11630"
      },
      "source": [
        "print(X_train.shape)\n",
        "print(X_test.shape)\n",
        "print(y_train.shape)\n",
        "print(y_test.shape)"
      ],
      "execution_count": 5,
      "outputs": [
        {
          "output_type": "stream",
          "text": [
            "(60000, 28, 28)\n",
            "(10000, 28, 28)\n",
            "(60000,)\n",
            "(10000,)\n"
          ],
          "name": "stdout"
        }
      ]
    },
    {
      "cell_type": "code",
      "metadata": {
        "id": "7oe4tz9WFF5J",
        "colab": {
          "base_uri": "https://localhost:8080/"
        },
        "outputId": "0aceef1d-d680-41d6-c2a1-0c1ca757a987"
      },
      "source": [
        "np.unique(y_train,return_counts=True)"
      ],
      "execution_count": 6,
      "outputs": [
        {
          "output_type": "execute_result",
          "data": {
            "text/plain": [
              "(array([0, 1, 2, 3, 4, 5, 6, 7, 8, 9], dtype=uint8),\n",
              " array([5923, 6742, 5958, 6131, 5842, 5421, 5918, 6265, 5851, 5949]))"
            ]
          },
          "metadata": {
            "tags": []
          },
          "execution_count": 6
        }
      ]
    },
    {
      "cell_type": "code",
      "metadata": {
        "id": "p2zeWPyFFXzw",
        "colab": {
          "base_uri": "https://localhost:8080/"
        },
        "outputId": "e45100fd-64f0-4ae5-e5ef-28d4fdeab3a3"
      },
      "source": [
        "np.unique(y_test,return_counts=True)"
      ],
      "execution_count": 7,
      "outputs": [
        {
          "output_type": "execute_result",
          "data": {
            "text/plain": [
              "(array([0, 1, 2, 3, 4, 5, 6, 7, 8, 9], dtype=uint8),\n",
              " array([ 980, 1135, 1032, 1010,  982,  892,  958, 1028,  974, 1009]))"
            ]
          },
          "metadata": {
            "tags": []
          },
          "execution_count": 7
        }
      ]
    },
    {
      "cell_type": "markdown",
      "metadata": {
        "id": "i5rNmHidj4wE"
      },
      "source": [
        "Normalizing the dataset"
      ]
    },
    {
      "cell_type": "code",
      "metadata": {
        "id": "H2GtO25mFqRG"
      },
      "source": [
        "X_train = X_train/255\n",
        "X_test = X_test/255"
      ],
      "execution_count": 8,
      "outputs": []
    },
    {
      "cell_type": "markdown",
      "metadata": {
        "id": "eSolcGSPj-tG"
      },
      "source": [
        "Number of neuron units for hidden layer"
      ]
    },
    {
      "cell_type": "code",
      "metadata": {
        "id": "oMNKxoU8F0ho",
        "colab": {
          "base_uri": "https://localhost:8080/"
        },
        "outputId": "909bc33d-12cc-4193-9519-68e33d93a90c"
      },
      "source": [
        "(28*28)/2"
      ],
      "execution_count": 9,
      "outputs": [
        {
          "output_type": "execute_result",
          "data": {
            "text/plain": [
              "392.0"
            ]
          },
          "metadata": {
            "tags": []
          },
          "execution_count": 9
        }
      ]
    },
    {
      "cell_type": "markdown",
      "metadata": {
        "id": "CAwT-3ulkGOz"
      },
      "source": [
        "Creating the ANN model"
      ]
    },
    {
      "cell_type": "code",
      "metadata": {
        "id": "T-fu60C5BogZ"
      },
      "source": [
        "model = tf.keras.models.Sequential()\n",
        "model.add(tf.keras.layers.Flatten())\n",
        "model.add(tf.keras.layers.Dense(392,activation='relu'))\n",
        "model.add(tf.keras.layers.Dense(10,activation='softmax'))"
      ],
      "execution_count": 10,
      "outputs": []
    },
    {
      "cell_type": "markdown",
      "metadata": {
        "id": "oZADBU76kJ5U"
      },
      "source": [
        "Compiling the model"
      ]
    },
    {
      "cell_type": "code",
      "metadata": {
        "id": "1oiBANquDLei"
      },
      "source": [
        "model.compile(optimizer='adam',loss='sparse_categorical_crossentropy',metrics=['accuracy'])"
      ],
      "execution_count": 11,
      "outputs": []
    },
    {
      "cell_type": "markdown",
      "metadata": {
        "id": "MD4x7x8ekPyM"
      },
      "source": [
        "Fitting the train set in model"
      ]
    },
    {
      "cell_type": "code",
      "metadata": {
        "id": "G6n-DsDHGINl",
        "colab": {
          "base_uri": "https://localhost:8080/"
        },
        "outputId": "6670952c-06b2-4d0f-fcc7-4760677ab66f"
      },
      "source": [
        "model.fit(X_train,y_train,epochs=10)"
      ],
      "execution_count": 12,
      "outputs": [
        {
          "output_type": "stream",
          "text": [
            "Epoch 1/10\n",
            "1875/1875 [==============================] - 6s 3ms/step - loss: 0.2101 - accuracy: 0.9375\n",
            "Epoch 2/10\n",
            "1875/1875 [==============================] - 6s 3ms/step - loss: 0.0836 - accuracy: 0.9744\n",
            "Epoch 3/10\n",
            "1875/1875 [==============================] - 6s 3ms/step - loss: 0.0561 - accuracy: 0.9827\n",
            "Epoch 4/10\n",
            "1875/1875 [==============================] - 6s 3ms/step - loss: 0.0398 - accuracy: 0.9877\n",
            "Epoch 5/10\n",
            "1875/1875 [==============================] - 6s 3ms/step - loss: 0.0284 - accuracy: 0.9909\n",
            "Epoch 6/10\n",
            "1875/1875 [==============================] - 7s 4ms/step - loss: 0.0212 - accuracy: 0.9930\n",
            "Epoch 7/10\n",
            "1875/1875 [==============================] - 7s 4ms/step - loss: 0.0165 - accuracy: 0.9944\n",
            "Epoch 8/10\n",
            "1875/1875 [==============================] - 7s 4ms/step - loss: 0.0145 - accuracy: 0.9951\n",
            "Epoch 9/10\n",
            "1875/1875 [==============================] - 6s 3ms/step - loss: 0.0126 - accuracy: 0.9955\n",
            "Epoch 10/10\n",
            "1875/1875 [==============================] - 6s 3ms/step - loss: 0.0091 - accuracy: 0.9969\n"
          ],
          "name": "stdout"
        },
        {
          "output_type": "execute_result",
          "data": {
            "text/plain": [
              "<tensorflow.python.keras.callbacks.History at 0x7f9298470f28>"
            ]
          },
          "metadata": {
            "tags": []
          },
          "execution_count": 12
        }
      ]
    },
    {
      "cell_type": "markdown",
      "metadata": {
        "id": "DFRBldDMkZME"
      },
      "source": [
        "Predicting the values for X_test"
      ]
    },
    {
      "cell_type": "code",
      "metadata": {
        "id": "aw-R9JGeGLzr",
        "colab": {
          "base_uri": "https://localhost:8080/"
        },
        "outputId": "c042a7d8-de57-4a0b-e1af-14c4c510c4ba"
      },
      "source": [
        "y_pred = np.argmax(model.predict(X_test),axis=-1)\n",
        "y_pred"
      ],
      "execution_count": 13,
      "outputs": [
        {
          "output_type": "execute_result",
          "data": {
            "text/plain": [
              "array([7, 2, 1, ..., 4, 5, 6])"
            ]
          },
          "metadata": {
            "tags": []
          },
          "execution_count": 13
        }
      ]
    },
    {
      "cell_type": "markdown",
      "metadata": {
        "id": "hvxFAUQHke2c"
      },
      "source": [
        "Real test set"
      ]
    },
    {
      "cell_type": "code",
      "metadata": {
        "id": "RqHll2uHGl1l",
        "colab": {
          "base_uri": "https://localhost:8080/"
        },
        "outputId": "a4301d62-78b7-48cc-f224-d9cf0f6c5520"
      },
      "source": [
        "y_test"
      ],
      "execution_count": 14,
      "outputs": [
        {
          "output_type": "execute_result",
          "data": {
            "text/plain": [
              "array([7, 2, 1, ..., 4, 5, 6], dtype=uint8)"
            ]
          },
          "metadata": {
            "tags": []
          },
          "execution_count": 14
        }
      ]
    },
    {
      "cell_type": "markdown",
      "metadata": {
        "id": "I0p9ZfyckhNk"
      },
      "source": [
        "Checking the accuracy of the model"
      ]
    },
    {
      "cell_type": "code",
      "metadata": {
        "id": "O6EUhgU4G6yS",
        "colab": {
          "base_uri": "https://localhost:8080/"
        },
        "outputId": "5a5ec7e6-df95-4950-e8ec-b1e85f6006cc"
      },
      "source": [
        "from sklearn.metrics import accuracy_score,confusion_matrix\n",
        "accuracy_score(y_test,y_pred)"
      ],
      "execution_count": 15,
      "outputs": [
        {
          "output_type": "execute_result",
          "data": {
            "text/plain": [
              "0.9771"
            ]
          },
          "metadata": {
            "tags": []
          },
          "execution_count": 15
        }
      ]
    },
    {
      "cell_type": "markdown",
      "metadata": {
        "id": "v-oxpwn_kla7"
      },
      "source": [
        "Confusion matrix of the model"
      ]
    },
    {
      "cell_type": "code",
      "metadata": {
        "id": "Zt7TuVlBG-VX",
        "colab": {
          "base_uri": "https://localhost:8080/"
        },
        "outputId": "3376e4c4-cc9a-4dd6-aef9-f22e416ca2d6"
      },
      "source": [
        "confusion_matrix(y_test,y_pred)"
      ],
      "execution_count": 16,
      "outputs": [
        {
          "output_type": "execute_result",
          "data": {
            "text/plain": [
              "array([[ 939,    1,    6,    0,    0,    5,   23,    0,    2,    4],\n",
              "       [   0, 1128,    2,    0,    0,    2,    1,    1,    1,    0],\n",
              "       [   1,    1, 1011,    3,    1,    0,    3,    5,    7,    0],\n",
              "       [   1,    0,    6,  982,    0,   10,    0,    4,    2,    5],\n",
              "       [   1,    1,    2,    0,  962,    0,    6,    0,    0,   10],\n",
              "       [   2,    0,    0,    7,    1,  874,    2,    1,    1,    4],\n",
              "       [   0,    2,    0,    1,    2,    4,  949,    0,    0,    0],\n",
              "       [   0,    1,    7,    2,    1,    0,    1,  998,    2,   16],\n",
              "       [   1,    0,    6,    5,    8,   11,    2,    3,  932,    6],\n",
              "       [   0,    1,    0,    0,    7,    3,    1,    1,    0,  996]])"
            ]
          },
          "metadata": {
            "tags": []
          },
          "execution_count": 16
        }
      ]
    },
    {
      "cell_type": "markdown",
      "metadata": {
        "id": "DhX7CZwEksYs"
      },
      "source": [
        "Saving the model"
      ]
    },
    {
      "cell_type": "code",
      "metadata": {
        "id": "0IRlZldWHBKO"
      },
      "source": [
        "model.save('Digit_recong.h5')"
      ],
      "execution_count": 17,
      "outputs": []
    }
  ]
}